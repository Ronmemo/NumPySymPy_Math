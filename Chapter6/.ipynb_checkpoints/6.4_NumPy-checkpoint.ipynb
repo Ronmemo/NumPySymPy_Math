{
 "cells": [
  {
   "cell_type": "markdown",
   "metadata": {},
   "source": [
    "準備"
   ]
  },
  {
   "cell_type": "code",
   "execution_count": 1,
   "metadata": {},
   "outputs": [],
   "source": [
    "import numpy as np\n",
    "import matplotlib.pyplot as plt\n",
    "%matplotlib inline"
   ]
  },
  {
   "cell_type": "markdown",
   "metadata": {},
   "source": [
    "Malthus増殖モデル"
   ]
  },
  {
   "cell_type": "code",
   "execution_count": 2,
   "metadata": {},
   "outputs": [
    {
     "data": {
      "text/plain": [
       "[<matplotlib.lines.Line2D at 0x111ca24e0>]"
      ]
     },
     "execution_count": 2,
     "metadata": {},
     "output_type": "execute_result"
    },
    {
     "data": {
      "image/png": "[encoded data removed]",
      "text/plain": [
       "<Figure size 432x288 with 1 Axes>"
      ]
     },
     "metadata": {
      "needs_background": "light"
     },
     "output_type": "display_data"
    }
   ],
   "source": [
    "def malthus(N0, a, dt, tEnd):\n",
    "    # 初期値\n",
    "    N = N0\n",
    "    t = 0.0\n",
    "\n",
    "    # 時間の設定\n",
    "    iEnd = int(tEnd/dt)+1\n",
    "\n",
    "    NList = [N]\n",
    "    tList = [t]\n",
    "    for i in range(iEnd):\n",
    "        t = dt*i\n",
    "        NN = N + dt * (a*N)\n",
    "        N = NN\n",
    "        tList.append(t)\n",
    "        NList.append(N)\n",
    "    return (tList, NList)\n",
    "\n",
    "\n",
    "N0 = 1\n",
    "\n",
    "a = 1.1\n",
    "\n",
    "dt = 0.001\n",
    "tEnd = 10\n",
    "\n",
    "tList, NList = malthus(N0, a, dt, tEnd)\n",
    "\n",
    "plt.plot(tList, NList)"
   ]
  },
  {
   "cell_type": "code",
   "execution_count": null,
   "metadata": {},
   "outputs": [],
   "source": []
  }
 ],
 "metadata": {
  "kernelspec": {
   "display_name": "Python 3",
   "language": "python",
   "name": "python3"
  },
  "language_info": {
   "codemirror_mode": {
    "name": "ipython",
    "version": 3
   },
   "file_extension": ".py",
   "mimetype": "text/x-python",
   "name": "python",
   "nbconvert_exporter": "python",
   "pygments_lexer": "ipython3",
   "version": "3.6.6"
  },
  "toc": {
   "base_numbering": 1,
   "nav_menu": {},
   "number_sections": true,
   "sideBar": true,
   "skip_h1_title": false,
   "title_cell": "Table of Contents",
   "title_sidebar": "Contents",
   "toc_cell": false,
   "toc_position": {},
   "toc_section_display": true,
   "toc_window_display": false
  }
 },
 "nbformat": 4,
 "nbformat_minor": 2
}
