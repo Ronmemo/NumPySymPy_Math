{
 "cells": [
  {
   "cell_type": "code",
   "execution_count": 1,
   "metadata": {},
   "outputs": [
    {
     "data": {
      "text/plain": [
       "inf"
      ]
     },
     "execution_count": 1,
     "metadata": {},
     "output_type": "execute_result"
    }
   ],
   "source": [
    "import numpy as np\n",
    "\n",
    "#無限大の定義\n",
    "i = np.inf\n",
    "i"
   ]
  },
  {
   "cell_type": "code",
   "execution_count": 3,
   "metadata": {},
   "outputs": [
    {
     "name": "stdout",
     "output_type": "stream",
     "text": [
      "和：\n",
      "i + 100 = inf\n",
      "i + i = inf\n",
      "差：\n",
      "i - 100 = inf\n",
      "i - i = nan\n",
      "積：\n",
      "i * 100 = inf\n",
      "i + i = inf\n",
      "商：\n",
      "i / 100 = inf\n",
      "i / i = nan\n"
     ]
    }
   ],
   "source": [
    "# 無限大の演算\n",
    "print('和：')\n",
    "print('i + 100 =', i + 100)\n",
    "print('i + i =', i + i)\n",
    "\n",
    "print('差：')\n",
    "print('i - 100 =', i - 100)\n",
    "print('i - i =', i - i)\n",
    "\n",
    "print('積：')\n",
    "print('i * 100 =', i * 100)\n",
    "print('i + i =', i * i)\n",
    "\n",
    "print('商：')\n",
    "print('i / 100 =', i / 100)\n",
    "print('i / i =', i / i)"
   ]
  },
  {
   "cell_type": "code",
   "execution_count": 4,
   "metadata": {},
   "outputs": [
    {
     "name": "stdout",
     "output_type": "stream",
     "text": [
      "True\n",
      "False\n",
      "True\n"
     ]
    }
   ],
   "source": [
    "# 無限大か判定\n",
    "print(np.isinf(1e1000))\n",
    "\n",
    "print(np.isinf(1e100))\n",
    "\n",
    "print(np.isinf(-1e1000))"
   ]
  },
  {
   "cell_type": "code",
   "execution_count": null,
   "metadata": {},
   "outputs": [],
   "source": []
  }
 ],
 "metadata": {
  "kernelspec": {
   "display_name": "Python 3",
   "language": "python",
   "name": "python3"
  },
  "language_info": {
   "codemirror_mode": {
    "name": "ipython",
    "version": 3
   },
   "file_extension": ".py",
   "mimetype": "text/x-python",
   "name": "python",
   "nbconvert_exporter": "python",
   "pygments_lexer": "ipython3",
   "version": "3.6.6"
  },
  "toc": {
   "base_numbering": 1,
   "nav_menu": {},
   "number_sections": true,
   "sideBar": true,
   "skip_h1_title": false,
   "title_cell": "Table of Contents",
   "title_sidebar": "Contents",
   "toc_cell": false,
   "toc_position": {},
   "toc_section_display": true,
   "toc_window_display": false
  }
 },
 "nbformat": 4,
 "nbformat_minor": 2
}
